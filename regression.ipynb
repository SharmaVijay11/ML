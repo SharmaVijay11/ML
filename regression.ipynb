{
 "cells": [
  {
   "cell_type": "code",
   "execution_count": 59,
   "metadata": {},
   "outputs": [],
   "source": [
    "import pandas as pd\n",
    "import numpy as np\n",
    "import matplotlib.pyplot as plt"
   ]
  },
  {
   "cell_type": "code",
   "execution_count": 60,
   "metadata": {},
   "outputs": [],
   "source": [
    "data = pd.read_table(\"http://archive.ics.uci.edu/ml/machine-learning-databases/wine-quality/winequality-red.csv\", sep=\";\")"
   ]
  },
  {
   "cell_type": "code",
   "execution_count": 61,
   "metadata": {},
   "outputs": [],
   "source": [
    "def ols_cost(X, y, theta):\n",
    "    inner = np.power(((X * theta.T) - y), 2)\n",
    "    return np.sum(inner) / (2 * len(X))\n",
    "def gradientDescent(X, y, theta, alpha, iters):\n",
    "    temp = np.matrix(np.zeros(theta.shape))\n",
    "    parameters = int(theta.ravel().shape[1])\n",
    "    cost = np.zeros(iters + 1)\n",
    "    cost[0] = ols_cost(X, y, theta)\n",
    "    for i in range(iters):\n",
    "        error = (X * theta.T) - y\n",
    "        for j in range(parameters):\n",
    "            term = np.multiply(error, X[:,j])\n",
    "            temp[0,j] = theta[0,j] - ((alpha / len(X)) * np.sum(term))\n",
    "        theta = temp\n",
    "        cost[i + 1] = ols_cost(X, y, theta)\n",
    "    return theta, cost\n",
    "alpha = 0.01\n",
    "iters = 1000\n",
    "sigma = data.std()\n",
    "mu = data.mean()\n",
    "X = pd.DataFrame(data['alcohol'])\n",
    "X['x_0'] = 1\n",
    "y = data['quality']\n",
    "X = np.matrix(X.values)\n",
    "y = np.matrix(y.values).T\n",
    "theta = np.matrix(np.zeros(shape=[1,X.shape[1]]))"
   ]
  },
  {
   "cell_type": "code",
   "execution_count": 62,
   "metadata": {},
   "outputs": [
    {
     "data": {
      "text/plain": [
       "16.20825515947467"
      ]
     },
     "execution_count": 62,
     "metadata": {},
     "output_type": "execute_result"
    }
   ],
   "source": [
    "ols_cost(X, y, theta)"
   ]
  },
  {
   "cell_type": "code",
   "execution_count": 63,
   "metadata": {},
   "outputs": [
    {
     "data": {
      "text/plain": [
       "0.2660076719790539"
      ]
     },
     "execution_count": 63,
     "metadata": {},
     "output_type": "execute_result"
    }
   ],
   "source": [
    "theta_final, cost = gradientDescent(X, y, theta, alpha, iters)\n",
    "ols_cost(X, y, theta_final)"
   ]
  },
  {
   "cell_type": "code",
   "execution_count": 64,
   "metadata": {},
   "outputs": [],
   "source": [
    "x = np.linspace(data.alcohol.min(), data.alcohol.max(), 100)\n",
    "y_hat = theta_final[0,1] + theta_final[0,0] * x"
   ]
  },
  {
   "cell_type": "code",
   "execution_count": 65,
   "metadata": {},
   "outputs": [
    {
     "name": "stdout",
     "output_type": "stream",
     "text": [
      "Standard Deviations\n",
      " fixed acidity            1.741096\n",
      "volatile acidity         0.179060\n",
      "citric acid              0.194801\n",
      "residual sugar           1.409928\n",
      "chlorides                0.047065\n",
      "free sulfur dioxide     10.460157\n",
      "total sulfur dioxide    32.895324\n",
      "density                  0.001887\n",
      "pH                       0.154386\n",
      "sulphates                0.169507\n",
      "alcohol                  1.065668\n",
      "quality                  0.807569\n",
      "dtype: float64\n",
      "\n",
      "Averages\n",
      " fixed acidity            8.319637\n",
      "volatile acidity         0.527821\n",
      "citric acid              0.270976\n",
      "residual sugar           2.538806\n",
      "chlorides                0.087467\n",
      "free sulfur dioxide     15.874922\n",
      "total sulfur dioxide    46.467792\n",
      "density                  0.996747\n",
      "pH                       3.311113\n",
      "sulphates                0.658149\n",
      "alcohol                 10.422983\n",
      "quality                  5.636023\n",
      "dtype: float64\n"
     ]
    }
   ],
   "source": [
    "data_z = (data - data.mean()) / data.std()\n",
    "sigma = data.std()\n",
    "mu = data.mean()\n",
    "print(\"Standard Deviations\\n\", sigma)\n",
    "print(\"\\nAverages\\n\", mu)"
   ]
  },
  {
   "cell_type": "code",
   "execution_count": 66,
   "metadata": {},
   "outputs": [
    {
     "data": {
      "text/plain": [
       "0.36035795138073934"
      ]
     },
     "execution_count": 66,
     "metadata": {},
     "output_type": "execute_result"
    }
   ],
   "source": [
    "data_z['x_0'] = 1\n",
    "X = data_z.drop(['quality'], axis=1)\n",
    "y = data_z['quality']\n",
    "X = np.matrix(X.values)\n",
    "y = np.matrix(y.values).T\n",
    "theta = np.matrix(np.zeros(shape=[1,X.shape[1]]))\n",
    "theta_final, cost = gradientDescent(X, y, theta, alpha, iters)\n",
    "ols_cost(X, y, theta_final)\n",
    "x_hat_z = np.ones((100, X.shape[1]))\n",
    "for i in range(1, x_hat_z.shape[1]):\n",
    "    x_hat_z[:,i] = np.linspace(X[:,i].min(), X[:,i].max(), 100)\n",
    "y_hat_z = x_hat_z * theta_final.T\n",
    "y_hat = y_hat_z * sigma[len(sigma) - 1] + mu[len(mu) - 1]\n",
    "x_hat = x_hat_z\n",
    "x_hat[:,0:(len(sigma) - 1)] = x_hat_z[:,0:(len(\n",
    "            sigma) - 1)] * np.atleast_2d(sigma[0:(\n",
    "            len(sigma) - 1)]) + np.atleast_2d(mu[0:(\n",
    "            len(sigma) - 1)])\n",
    "y_hat_2 = np.ravel(X * theta_final.T * sigma[len(sigma) - 1] + mu[len(mu) - 1])\n",
    "num = np.sum((data.quality - y_hat_2) ** 2)\n",
    "den = np.sum((data.quality - data.quality.mean()) ** 2)\n",
    "r_squared = 1 - num / den\n",
    "r_squared"
   ]
  },
  {
   "cell_type": "code",
   "execution_count": 67,
   "metadata": {},
   "outputs": [],
   "source": [
    "from sklearn.linear_model import LinearRegression"
   ]
  },
  {
   "cell_type": "code",
   "execution_count": 68,
   "metadata": {},
   "outputs": [
    {
     "data": {
      "text/plain": [
       "LinearRegression(copy_X=True, fit_intercept=True, n_jobs=1, normalize=True)"
      ]
     },
     "execution_count": 68,
     "metadata": {},
     "output_type": "execute_result"
    }
   ],
   "source": [
    "X = data.drop(['quality'], axis=1)\n",
    "y = data['quality']\n",
    "lm = LinearRegression(fit_intercept=True, normalize=True)\n",
    "lm.fit(X, y)"
   ]
  },
  {
   "cell_type": "code",
   "execution_count": 69,
   "metadata": {},
   "outputs": [],
   "source": [
    "X_ = np.matrix(X.values)\n",
    "x_hat_sk = np.zeros((100, X.shape[1]))\n",
    "for i in range(X.shape[1]):\n",
    "    x_hat_sk[:,i] = np.linspace(X_[:,i].min(), X_[:,i].max(), 100)\n",
    "y_hat_sk = lm.predict(x_hat_sk)"
   ]
  },
  {
   "cell_type": "code",
   "execution_count": 70,
   "metadata": {},
   "outputs": [
    {
     "data": {
      "image/png": "[encoded data removed]",
      "text/plain": [
       "<Figure size 864x576 with 1 Axes>"
      ]
     },
     "metadata": {},
     "output_type": "display_data"
    }
   ],
   "source": [
    "fig, ax = plt.subplots(figsize=(12,8))\n",
    "plt.scatter(data.alcohol, data.quality, label='Training Data')\n",
    "plt.plot(x_hat_sk[:,10], y_hat_sk, 'r', label='Predicted Sklearn')\n",
    "plt.xlabel(\"Alcohol\")\n",
    "plt.ylabel(\"Quality\")\n",
    "plt.title(\"Wine Quality vs. Alcohol\")\n",
    "plt.show()"
   ]
  },
  {
   "cell_type": "code",
   "execution_count": 71,
   "metadata": {},
   "outputs": [
    {
     "data": {
      "text/plain": [
       "0.36055170303868833"
      ]
     },
     "execution_count": 71,
     "metadata": {},
     "output_type": "execute_result"
    }
   ],
   "source": [
    "lm.score(X, y)"
   ]
  },
  {
   "cell_type": "code",
   "execution_count": 72,
   "metadata": {},
   "outputs": [
    {
     "ename": "NameError",
     "evalue": "name 'y_hat_sk2' is not defined",
     "output_type": "error",
     "traceback": [
      "\u001b[1;31m---------------------------------------------------------------------------\u001b[0m",
      "\u001b[1;31mNameError\u001b[0m                                 Traceback (most recent call last)",
      "\u001b[1;32m<ipython-input-72-7403fb303650>\u001b[0m in \u001b[0;36m<module>\u001b[1;34m()\u001b[0m\n\u001b[0;32m      1\u001b[0m \u001b[0mplt\u001b[0m\u001b[1;33m.\u001b[0m\u001b[0mfigure\u001b[0m\u001b[1;33m(\u001b[0m\u001b[0mfigsize\u001b[0m\u001b[1;33m=\u001b[0m\u001b[1;33m(\u001b[0m\u001b[1;36m12\u001b[0m\u001b[1;33m,\u001b[0m\u001b[1;36m8\u001b[0m\u001b[1;33m)\u001b[0m\u001b[1;33m)\u001b[0m\u001b[1;33m\u001b[0m\u001b[0m\n\u001b[1;32m----> 2\u001b[1;33m plt.scatter(y, y_hat_sk2, c='b', label='Sci Kit-Learn',\n\u001b[0m\u001b[0;32m      3\u001b[0m            s=50)\n\u001b[0;32m      4\u001b[0m \u001b[0mplt\u001b[0m\u001b[1;33m.\u001b[0m\u001b[0mscatter\u001b[0m\u001b[1;33m(\u001b[0m\u001b[0my\u001b[0m\u001b[1;33m,\u001b[0m \u001b[0my_hat_2\u001b[0m\u001b[1;33m,\u001b[0m \u001b[0mc\u001b[0m\u001b[1;33m=\u001b[0m\u001b[1;34m'r'\u001b[0m\u001b[1;33m,\u001b[0m \u001b[0mlabel\u001b[0m\u001b[1;33m=\u001b[0m\u001b[1;34m'Custom Function'\u001b[0m\u001b[1;33m)\u001b[0m\u001b[1;33m\u001b[0m\u001b[0m\n\u001b[0;32m      5\u001b[0m \u001b[0mplt\u001b[0m\u001b[1;33m.\u001b[0m\u001b[0mylabel\u001b[0m\u001b[1;33m(\u001b[0m\u001b[1;34m'Predicted Quality $\\hat{y_i}$'\u001b[0m\u001b[1;33m)\u001b[0m\u001b[1;33m\u001b[0m\u001b[0m\n",
      "\u001b[1;31mNameError\u001b[0m: name 'y_hat_sk2' is not defined"
     ]
    },
    {
     "data": {
      "text/plain": [
       "<Figure size 864x576 with 0 Axes>"
      ]
     },
     "metadata": {},
     "output_type": "display_data"
    }
   ],
   "source": [
    "plt.figure(figsize=(12,8))\n",
    "plt.scatter(y, y_hat_sk2, c='b', label='Sci Kit-Learn',\n",
    "           s=50)\n",
    "plt.scatter(y, y_hat_2, c='r', label='Custom Function')\n",
    "plt.ylabel('Predicted Quality $\\hat{y_i}$')\n",
    "plt.xlabel('Quality $y_i$')\n",
    "plt.legend(loc=2)\n",
    "plt.grid()\n",
    "plt.show()"
   ]
  },
  {
   "cell_type": "code",
   "execution_count": null,
   "metadata": {},
   "outputs": [],
   "source": []
  }
 ],
 "metadata": {
  "kernelspec": {
   "display_name": "Python 3",
   "language": "python",
   "name": "python3"
  },
  "language_info": {
   "codemirror_mode": {
    "name": "ipython",
    "version": 3
   },
   "file_extension": ".py",
   "mimetype": "text/x-python",
   "name": "python",
   "nbconvert_exporter": "python",
   "pygments_lexer": "ipython3",
   "version": "3.6.5"
  }
 },
 "nbformat": 4,
 "nbformat_minor": 2
}
