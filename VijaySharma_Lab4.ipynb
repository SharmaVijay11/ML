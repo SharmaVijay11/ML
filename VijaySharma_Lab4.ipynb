{
 "cells": [
  {
   "cell_type": "code",
   "execution_count": null,
   "metadata": {
    "collapsed": true
   },
   "outputs": [],
   "source": [
    "import numpy as np\n",
    "import pandas as pd\n",
    "from sklearn.datasets import load_iris\n",
    "from functools import partial\n",
    "from random import random\n",
    "from sklearn.preprocessing import MinMaxScaler\n",
    "from collections import defaultdict\n",
    "from collections import Counter\n",
    "import math"
   ]
  },
  {
   "cell_type": "code",
   "execution_count": null,
   "metadata": {},
   "outputs": [],
   "source": [
    "df = load_iris()\n",
    "df.data.shap"
   ]
  },
  {
   "cell_type": "code",
   "execution_count": null,
   "metadata": {},
   "outputs": [],
   "source": [
    "\n",
    "def f_hash(w,r,b,x):\n",
    "    return int((np.dot(w,x)+b)/r)\n",
    "def euclideanDistance(instance1, instance2):\n",
    "    distance = 0\n",
    "    for x in range(instance1.shape[0]):\n",
    "        distance += pow(instance1[x] - instance2[0][x], 2)\n",
    "    return math.sqrt(distance)"
   ]
  },
  {
   "cell_type": "code",
   "execution_count": null,
   "metadata": {},
   "outputs": [],
   "source": [
    "class KNNHash(object):\n",
    "    def __init__(self,m,L,nn):\n",
    "        self.m = m\n",
    "        self.L = L\n",
    "        self.nn = nn\n",
    "\n",
    "    def fit(self,X,y):\n",
    "        self.t_hh = [] #hash table\n",
    "        for j in range(self.L):\n",
    "            f_hh = [] #compositional hash function\n",
    "            for i in range(self.m):\n",
    "                w = np.random.rand(1,X[0].shape[0]) #  weights of a hash function\n",
    "                f_hh.append(partial(f_hash,w = w,r=random(),b=random())) # list of initialized hash function\n",
    "            self.t_hh.append(\n",
    "                (defaultdict(list),f_hh)\n",
    "            )\n",
    "        for n in range(X.shape[0]): \n",
    "            for j in range(self.L):\n",
    "                ind = 0\n",
    "                for i in range(self.m):\n",
    "                    ind = ind + self.t_hh[j][1][i](x=X[n]) #calculation of index in hash table, simply sum of all hash func\n",
    "                self.t_hh[j][0][ind].append((X[n],y[n])) #saving sample into corresponding index\n",
    "    \n",
    "    def predict(self,u):\n",
    "        \n",
    "        for j in range(self.L):\n",
    "            inds = []\n",
    "            distances = []\n",
    "            level_distance = []\n",
    "            for i in range(self.m):\n",
    "                inds.append(self.t_hh[j][1][i](x=u))\n",
    "            cntr = Counter([outp for inpt,outp in self.t_hh[j][0][sum(inds)]])\n",
    "            print(cntr)\n",
    "            for i in self.t_hh[j][0][sum(inds)]:\n",
    "                distances.append(euclideanDistance(u,i))\n",
    "                level_distance.append(i[1])\n",
    "        ans = distances.index(min(distances))\n",
    "        print(min(distances))\n",
    "        print(\"answer:\" + str(level_distance[ans]))\n",
    "     "
   ]
  },
  {
   "cell_type": "code",
   "execution_count": null,
   "metadata": {},
   "outputs": [],
   "source": [
    "scaler = MinMaxScaler()\n",
    "scaler.fit(df.data)\n",
    "x = scaler.transform(df.data)\n",
    "y = df.target"
   ]
  },
  {
   "cell_type": "code",
   "execution_count": null,
   "metadata": {},
   "outputs": [],
   "source": [
    "knnhash = KNNHash(4,4,4)\n",
    "test1x = x[0]\n",
    "test2x = x[75]\n",
    "test3x = x[149]\n",
    "\n",
    "test1y = y[0]\n",
    "test2y = y[75]\n",
    "test3y = y[149]\n",
    "x = np.delete(x,[0,75,149],axis=0)\n",
    "y = np.delete(y,[0,75,149],axis=0)\n",
    "\n",
    "knnhash.fit(x,y)\n",
    "print(test1y)\n",
    "knnhash.predict(test1x)\n",
    "print(\"-------------\")\n",
    "print(test2y)\n",
    "knnhash.predict(test2x)\n",
    "print(\"-------------\")\n",
    "print(test3y)\n",
    "knnhash.predict(test3x)"
   ]
  }
 ],
 "metadata": {
  "kernelspec": {
   "display_name": "Python 3",
   "language": "python",
   "name": "python3"
  },
  "language_info": {
   "codemirror_mode": {
    "name": "ipython",
    "version": 3
   },
   "file_extension": ".py",
   "mimetype": "text/x-python",
   "name": "python",
   "nbconvert_exporter": "python",
   "pygments_lexer": "ipython3",
   "version": "3.6.5"
  }
 },
 "nbformat": 4,
 "nbformat_minor": 1
}
